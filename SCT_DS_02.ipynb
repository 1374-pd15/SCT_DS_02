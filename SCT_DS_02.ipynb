📌 Cell 1: Install Libraries (Run only if needed)

!pip install pandas matplotlib seaborn
📌 Cell 2: Import Libraries

import pandas as pd
import matplotlib.pyplot as plt
import seaborn as sns

sns.set(style="whitegrid")
plt.rcParams["figure.figsize"] = (10, 6)
📌 Cell 3: Load the Dataset

df = pd.read_csv("train.csv")
df.head()
📌 Cell 4: Check Missing Values

missing = df.isnull().sum().sort_values(ascending=False)
print(missing)

sns.barplot(x=missing.values, y=missing.index, palette="viridis")
plt.title("Missing Values by Feature")
plt.show()
📌 Cell 5: Clean the Data

df['Age'].fillna(df['Age'].median(), inplace=True)
df['Embarked'].fillna(df['Embarked'].mode()[0], inplace=True)
df.drop(columns='Cabin', inplace=True)
📌 Cell 6: Univariate Analysis

# Age Distribution
sns.histplot(df['Age'], bins=30, kde=True, color="skyblue")
plt.title("Age Distribution")
plt.show()
📌 Cell 7: Gender & Class Count

sns.countplot(x='Sex', data=df, palette="Set2")
plt.title("Gender Count")
plt.show()

sns.countplot(x='Pclass', data=df, palette="coolwarm")
plt.title("Passenger Class Count")
plt.show()
📌 Cell 8: Survival Analysis

sns.countplot(x='Survived', data=df, palette="Set1")
plt.title("Survival Count")
plt.show()

sns.countplot(x='Sex', hue='Survived', data=df, palette="pastel")
plt.title("Survival by Gender")
plt.show()

sns.countplot(x='Pclass', hue='Survived', data=df, palette="muted")
plt.title("Survival by Class")
plt.show()

sns.boxplot(x='Survived', y='Age', data=df, palette="cool")
plt.title("Age Distribution by Survival")
plt.show()
